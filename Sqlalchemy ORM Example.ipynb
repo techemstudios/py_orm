{
 "cells": [
  {
   "cell_type": "markdown",
   "metadata": {},
   "source": [
    "# Using SqlAlchemy ORM"
   ]
  },
  {
   "cell_type": "markdown",
   "metadata": {},
   "source": [
    "## Get the db connection info\n",
    "### This section can go in a db_setup.py module"
   ]
  },
  {
   "cell_type": "code",
   "execution_count": 1,
   "metadata": {},
   "outputs": [],
   "source": [
    "# Get Database URI from appsettings\n",
    "\n",
    "import json\n",
    "\n",
    "settings = json.loads(open('appsettings.json').read())\n",
    "\n",
    "db_config = settings['db_config']\n",
    "db_url = \"mysql+pymysql://%s:%s@%s/%s\" % (db_config['user'],\n",
    "    db_config['password'],\n",
    "    db_config['host'],\n",
    "    db_config['database'])\n"
   ]
  },
  {
   "cell_type": "markdown",
   "metadata": {},
   "source": [
    "## All the imports and initial DB setup\n",
    "Note that this code will even create the database for you if it doesn't exist. Also note that this code won't run unless you have pip installed sqlalchemy and sqlalchemy_utils in your system python (specifically, the jupyter/anaconda python running this notebook). This could also go in the db_setup module -- engine and Base need to be available to the models."
   ]
  },
  {
   "cell_type": "code",
   "execution_count": 2,
   "metadata": {},
   "outputs": [],
   "source": [
    "from sqlalchemy import (\n",
    "    create_engine,\n",
    "    inspect,\n",
    "    Column,\n",
    "    ForeignKey,\n",
    "    String,\n",
    "    Integer,\n",
    "    Numeric,\n",
    "    DateTime )\n",
    "\n",
    "from sqlalchemy.orm import relationship\n",
    "from sqlalchemy.ext.declarative import declarative_base\n",
    "from sqlalchemy_utils import database_exists, create_database\n",
    "\n",
    "# Create the database if it doesn't exist\n",
    "engine = create_engine(db_url)\n",
    "if not database_exists(engine.url):\n",
    "    create_database(engine.url)\n",
    "\n",
    "Base = declarative_base()"
   ]
  },
  {
   "cell_type": "markdown",
   "metadata": {},
   "source": [
    "## Now, let's define our classes/tables without SQL!\n",
    "And we are making using of SQLAlchemy's relationship function which magically adds fields to the class to make accessing related object/tables much easier."
   ]
  },
  {
   "cell_type": "code",
   "execution_count": 3,
   "metadata": {},
   "outputs": [],
   "source": [
    "class Stream(Base):\n",
    "    __tablename__ = 'streams'\n",
    "    id = Column(Integer, primary_key=True)\n",
    "    name = Column(String(64))\n",
    "    description = Column(String(255))\n",
    "    sites = relationship(\"Site\", back_populates=\"stream\")\n",
    "\n",
    "class Site(Base):\n",
    "    __tablename__ = 'sites'\n",
    "    id = Column(Integer, primary_key=True)\n",
    "    name = Column(String(64))\n",
    "    latitude = Column(Numeric(3,3))\n",
    "    longitude = Column(Numeric(3,3))\n",
    "    stream_id = Column(Integer, ForeignKey('streams.id'))\n",
    "    stream = relationship(\"Stream\", back_populates=\"sites\")"
   ]
  },
  {
   "cell_type": "markdown",
   "metadata": {},
   "source": [
    "## Let SqlAlchemy create the tables for you!"
   ]
  },
  {
   "cell_type": "code",
   "execution_count": 4,
   "metadata": {},
   "outputs": [
    {
     "name": "stdout",
     "output_type": "stream",
     "text": [
      "sites\n",
      "streams\n"
     ]
    }
   ],
   "source": [
    "Base.metadata.create_all(bind=engine)\n",
    "\n",
    "# check table exists\n",
    "ins = inspect(engine)\n",
    "for _t in ins.get_table_names(): print(_t)"
   ]
  },
  {
   "cell_type": "markdown",
   "metadata": {},
   "source": [
    "## RDBMS interaction without SQL!\n",
    "This is a more natural way for an application developer to interact with a database -- asside from session, it is similar to dealing with in memory objects.\n",
    "\n",
    "### Insert some data"
   ]
  },
  {
   "cell_type": "code",
   "execution_count": 5,
   "metadata": {},
   "outputs": [],
   "source": [
    "# We do need to get a Session from the engine to which we are bound.\n",
    "from sqlalchemy.orm import sessionmaker\n",
    "Session = sessionmaker(bind=engine)\n",
    "\n",
    "# And from that Session, we can create session instances to control db operations\n",
    "session = Session()\n",
    "\n",
    "james = Stream(name=\"James\")\n",
    "potomac = Stream(name=\"Potomac\")\n",
    "\n",
    "maidens = Site(name=\"Maidens\")\n",
    "maidens.stream = james\n",
    "\n",
    "cartersville = Site(name=\"Cartersville\")\n",
    "cartersville.stream = james\n",
    "\n",
    "occoquan = Site(name=\"Occoquan\")\n",
    "occoquan.stream = potomac\n",
    "\n",
    "# Prep the in memory objects to be saved to the db.\n",
    "session.add_all([james,potomac,maidens,occoquan])\n",
    "\n",
    "# Commit will actually save all objects bound to the session\n",
    "session.commit()\n"
   ]
  },
  {
   "cell_type": "markdown",
   "metadata": {},
   "source": [
    "### Query the DB"
   ]
  },
  {
   "cell_type": "code",
   "execution_count": 6,
   "metadata": {},
   "outputs": [
    {
     "name": "stdout",
     "output_type": "stream",
     "text": [
      "2 Cartersville James\n",
      "1 Maidens James\n",
      "3 Occoquan Potomac\n",
      "\n",
      "James :\n",
      "-> Maidens\n",
      "-> Cartersville\n",
      "Potomac :\n",
      "-> Occoquan\n"
     ]
    }
   ],
   "source": [
    "session = Session()\n",
    "\n",
    "for site in session.query(Site).order_by(Site.name):\n",
    "    print(site.id,site.name,site.stream.name)\n",
    "    \n",
    "print()\n",
    "\n",
    "for stream in session.query(Stream).order_by(Stream.name):\n",
    "    print(stream.name,':')\n",
    "    for site in stream.sites:\n",
    "        print('->',site.name)\n",
    "    "
   ]
  }
 ],
 "metadata": {
  "kernelspec": {
   "display_name": "Python 3",
   "language": "python",
   "name": "python3"
  },
  "language_info": {
   "codemirror_mode": {
    "name": "ipython",
    "version": 3
   },
   "file_extension": ".py",
   "mimetype": "text/x-python",
   "name": "python",
   "nbconvert_exporter": "python",
   "pygments_lexer": "ipython3",
   "version": "3.6.7"
  }
 },
 "nbformat": 4,
 "nbformat_minor": 2
}
